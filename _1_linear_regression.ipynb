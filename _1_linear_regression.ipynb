{
 "cells": [
  {
   "cell_type": "markdown",
   "id": "5e30c104",
   "metadata": {},
   "source": [
    "线性回归linear regression训练模型"
   ]
  },
  {
   "cell_type": "code",
   "execution_count": 1,
   "id": "fe87c20c",
   "metadata": {},
   "outputs": [],
   "source": [
    "from matplotlib import pyplot as plt\n",
    "import random\n",
    "import torch"
   ]
  },
  {
   "cell_type": "markdown",
   "id": "3ace2b07",
   "metadata": {},
   "source": [
    "人造数据集$y = Xw + b + \\eta$，通过这个线性函数生成一组真实的数据分布，其中$w$是加权求和的系数列矩阵，$X$是一个含有真实的特征值的矩阵，行数代表样本数量，列数代表属性数量（和$w$的行数匹配），$b$是偏置值，$\\eta$是加入的噪声，让生成的数据更真实更随机一点；这样生成一个数据集"
   ]
  },
  {
   "cell_type": "code",
   "execution_count": 2,
   "id": "c9d01712",
   "metadata": {},
   "outputs": [
    {
     "data": {
      "text/plain": [
       "(tensor([-0.7144, -0.2061]), tensor([3.4448]))"
      ]
     },
     "execution_count": 2,
     "metadata": {},
     "output_type": "execute_result"
    }
   ],
   "source": [
    "'''\n",
    "写一个函数生成一个线性回归的数据集\n",
    "输入是w,b,以及样本数量\n",
    "输出是特征矩阵X和真实值y(一般叫labels)\n",
    "'''\n",
    "def synthetic_data(w,b,num_examples):\n",
    "    X = torch.normal(0,1,(num_examples,len(w)))#行数为样本数，列数为w的行数的矩阵\n",
    "    y = torch.matmul(X,w) + b#做X矩阵（二维张量）和w向量（一维张量）的乘法，然后加上b，这里根据tensor的运算特性，b虽然只是一个值，但是会加到算出的一维张量的每一个元素上\n",
    "    y += torch.normal(0,0.01,y.shape)#加上噪声\n",
    "    return X,y.reshape((-1,1))#把y重新变成列向量，这里是二维张量，多行一列\n",
    "\n",
    "true_w = torch.tensor([2,-3.4])\n",
    "true_b = 4.2\n",
    "features, labels = synthetic_data(true_w,true_b,1000)\n",
    "features[0], labels[0]"
   ]
  },
  {
   "cell_type": "markdown",
   "id": "4e54785a",
   "metadata": {},
   "source": [
    "labels是值真实值，features是指特征，也就是我们预估的可能会产生影响的属性；两者配对起来就是 ‘数据集’ 了"
   ]
  },
  {
   "cell_type": "markdown",
   "id": "24c9a130",
   "metadata": {},
   "source": [
    "画个散点图看看效果：以feature的第二列的数据为自变量，labels的值为因变量画图；可以看出大致是个线性的"
   ]
  },
  {
   "cell_type": "code",
   "execution_count": 3,
   "id": "15e01a5d",
   "metadata": {},
   "outputs": [
    {
     "data": {
      "text/plain": [
       "<matplotlib.collections.PathCollection at 0x233d8fee900>"
      ]
     },
     "execution_count": 3,
     "metadata": {},
     "output_type": "execute_result"
    },
    {
     "data": {
      "image/png": "[encoded data removed]",
      "text/plain": [
       "<Figure size 640x480 with 1 Axes>"
      ]
     },
     "metadata": {},
     "output_type": "display_data"
    }
   ],
   "source": [
    "plt.scatter(features[:,1].detach().numpy(),\n",
    "labels.detach().numpy(),1)"
   ]
  },
  {
   "cell_type": "markdown",
   "id": "20838f16",
   "metadata": {},
   "source": [
    "现在做小批量梯度下降（为什么不用直接全部1000个数据求出来的梯度来修正：因为小批量梯度下降，i有更好的泛性质；ii比之全部梯度下降更不容易进入局部最优解和鞍点中；iii迭代一次要的算力少）\n",
    "\n",
    "写一个生成器函数：（这样可以不花大量的内存存储数据）\n",
    "输入是小批量每一批的量（batch_size），特征矩阵（features），真实值（lebals）\n",
    "输出每一次迭代的结果，用一次迭代一次（也可以作为迭代对象被for循环读取）"
   ]
  },
  {
   "cell_type": "code",
   "execution_count": 4,
   "id": "193628bd",
   "metadata": {},
   "outputs": [
    {
     "name": "stdout",
     "output_type": "stream",
     "text": [
      "tensor([[-7.5969e-01, -9.6882e-01],\n",
      "        [ 1.6090e+00,  5.5684e-01],\n",
      "        [ 3.9565e-01,  6.4681e-01],\n",
      "        [-1.0813e+00, -1.8644e-01],\n",
      "        [-1.7836e+00, -2.2716e+00],\n",
      "        [-8.7602e-01,  1.0439e+00],\n",
      "        [ 1.3732e+00,  2.9116e-01],\n",
      "        [ 1.0327e-02, -9.8207e-04],\n",
      "        [ 4.8992e-01, -4.6902e-01],\n",
      "        [-9.2308e-01,  3.1258e+00]]) \n",
      " tensor([[ 5.9864],\n",
      "        [ 5.5392],\n",
      "        [ 2.8075],\n",
      "        [ 2.6693],\n",
      "        [ 8.3627],\n",
      "        [-1.0978],\n",
      "        [ 5.9601],\n",
      "        [ 4.2235],\n",
      "        [ 6.7730],\n",
      "        [-8.2606]])\n"
     ]
    }
   ],
   "source": [
    "def data_iter(batch_size,features,labels):\n",
    "    num_examples = len(features)\n",
    "    indices = list(range(num_examples))\n",
    "    random.shuffle(indices)#乱序读取，因为小批量每次要保证是‘随机’取小批量个\n",
    "    for i in range(0 ,num_examples,batch_size):\n",
    "        batch_indices = torch.tensor(indices[i:min(i+batch_size,1000)])\n",
    "        yield features[batch_indices],labels[batch_indices]\n",
    "\n",
    "batch_size = 10\n",
    "\n",
    "for X,y in data_iter(batch_size,features,labels):\n",
    "    print(X,'\\n',y)\n",
    "    break"
   ]
  },
  {
   "cell_type": "markdown",
   "id": "e31421a6",
   "metadata": {},
   "source": [
    "定义模型初始化参数（也就是迭代起点，因为我们的最终目标是找到合格的w，b\\{统称为参数\\}）：w要随机生成，b可以置0，且它俩要求跟随该张量的梯度进行自动求导（requires_grad=True），用于后续的反向传播更新"
   ]
  },
  {
   "cell_type": "code",
   "execution_count": 5,
   "id": "c4355749",
   "metadata": {},
   "outputs": [],
   "source": [
    "w = torch.normal(0,0.01,size=(2,1),requires_grad=True)\n",
    "b = torch.zeros(1,requires_grad=True)"
   ]
  },
  {
   "cell_type": "markdown",
   "id": "01c7f10d",
   "metadata": {},
   "source": [
    "定义线性回归模型"
   ]
  },
  {
   "cell_type": "code",
   "execution_count": 6,
   "id": "804a4d7e",
   "metadata": {},
   "outputs": [],
   "source": [
    "def linreg(X,w,b):\n",
    "    return torch.matmul(X,w)+b"
   ]
  },
  {
   "cell_type": "markdown",
   "id": "619bb72e",
   "metadata": {},
   "source": [
    "定义损失函数（注意这里生成的是一个张量，还没有对元素分量求和）"
   ]
  },
  {
   "cell_type": "code",
   "execution_count": 7,
   "id": "e079115b",
   "metadata": {},
   "outputs": [],
   "source": [
    "def squared_loss(y_hat,y):\n",
    "    return (y_hat - y.reshape(y_hat.shape))**2/2"
   ]
  },
  {
   "cell_type": "markdown",
   "id": "db03421e",
   "metadata": {},
   "source": [
    "定义优化算法"
   ]
  },
  {
   "cell_type": "code",
   "execution_count": 8,
   "id": "2aae84af",
   "metadata": {},
   "outputs": [],
   "source": [
    "def sgd(params,lr,batch_size):#params就是（w，b）全部参数的意思，lr是学习率\n",
    "    with torch.no_grad():\n",
    "        for param in params:#对每个参数进行梯度反方向的更新\n",
    "            param -= lr*param.grad / batch_size#对这批量的数据的损失函数求平均放在这个操作放在这里是一样的\n",
    "            param.grad.zero_()#梯度不会自己删除，要重新置零"
   ]
  },
  {
   "cell_type": "markdown",
   "id": "6654175a",
   "metadata": {},
   "source": [
    "训练过程"
   ]
  },
  {
   "cell_type": "code",
   "execution_count": 9,
   "id": "71d8412a",
   "metadata": {},
   "outputs": [
    {
     "name": "stdout",
     "output_type": "stream",
     "text": [
      "tensor(0.0523) \n",
      "\n",
      "tensor(0.0002) \n",
      "\n",
      "tensor(5.4597e-05) \n",
      "\n"
     ]
    }
   ],
   "source": [
    "lr = 0.03#设置合适的学习率\n",
    "num_epochs = 3#进行三轮\n",
    "net = linreg#调用线性回归模型学习\n",
    "loss = squared_loss#调用这个损失函数\n",
    "\n",
    "for epoch in range(num_epochs):\n",
    "    for X,y in data_iter(batch_size,features,labels):#对于每批次的数据\n",
    "        l = loss(net(X,w,b),y)#计算损失\n",
    "        l.sum().backward()#刚刚说了现在还是tensor，对各个分量求和（sum）然后反向传播求梯度（backwards）\n",
    "        sgd([w,b],lr,batch_size)#调用优化算法来优化参数进行学习\n",
    "    with torch.no_grad():#展示这一轮的学习结果，这个展示过程不要纳入计算图计算梯度\n",
    "        train_1 = loss(net(features,w,b),labels)\n",
    "        print(train_1.sum()/1000,'\\n')"
   ]
  }
 ],
 "metadata": {
  "kernelspec": {
   "display_name": "env4prac",
   "language": "python",
   "name": "python3"
  },
  "language_info": {
   "codemirror_mode": {
    "name": "ipython",
    "version": 3
   },
   "file_extension": ".py",
   "mimetype": "text/x-python",
   "name": "python",
   "nbconvert_exporter": "python",
   "pygments_lexer": "ipython3",
   "version": "3.13.2"
  }
 },
 "nbformat": 4,
 "nbformat_minor": 5
}
